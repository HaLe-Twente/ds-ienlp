{
 "cells": [
  {
   "cell_type": "code",
   "execution_count": 1,
   "metadata": {
    "collapsed": true
   },
   "outputs": [
    {
     "name": "stdout",
     "output_type": "stream",
     "text": [
      "       Unnamed: 0     Label                                               Text\n",
      "0               0     ISCAS  Scalable Serial-parallel Multiplier over GF(2m...\n",
      "1               1  SIGGRAPH                                Plenoptic sampling.\n",
      "2               2     ISCAS  Sensitivity and uniformity of a 0.18micrometer...\n",
      "3               3       WWW      A survey of web archive search architectures.\n",
      "4               4     ISCAS  Understanding dynamic behavior of mm-wave CML ...\n",
      "...           ...       ...                                                ...\n",
      "21638       21638     ISCAS  Decoding a Family of Dense Codes using the Sum...\n",
      "21639       21639      VLDB  CoHadoop: Flexible Data Placement and Its Expl...\n",
      "21640       21640     ISCAS  Full system simulation with QEMU: An approach ...\n",
      "21641       21641   INFOCOM  Localization in non-localizable sensor and ad-...\n",
      "21642       21642   INFOCOM  Topology Control of Multihop Wireless Networks...\n",
      "\n",
      "[21643 rows x 3 columns]\n"
     ]
    }
   ],
   "source": [
    "import pandas as pd\n",
    "\n",
    "def conference_extraction():\n",
    "  train_data = pd.read_csv('data/DBLPTrainset.csv')\n",
    "  print(train_data)\n",
    "conference_extraction()\n"
   ]
  }
 ],
 "metadata": {
  "kernelspec": {
   "display_name": "Python 3",
   "language": "python",
   "name": "python3"
  },
  "language_info": {
   "codemirror_mode": {
    "name": "ipython",
    "version": 2
   },
   "file_extension": ".py",
   "mimetype": "text/x-python",
   "name": "python",
   "nbconvert_exporter": "python",
   "pygments_lexer": "ipython2",
   "version": "2.7.6"
  }
 },
 "nbformat": 4,
 "nbformat_minor": 0
}